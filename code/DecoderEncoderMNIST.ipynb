{
 "cells": [
  {
   "cell_type": "code",
   "execution_count": 1,
   "id": "76f17a14",
   "metadata": {},
   "outputs": [],
   "source": [
    "import torch\n",
    "from torchvision import datasets, transforms\n",
    "import numpy as np\n",
    "from matplotlib import pyplot as plt\n",
    "from utils import plot_tsne\n",
    "import numpy as np\n",
    "import random\n",
    "import argparse\n",
    "from AutoEncoderDecoder import EncoderMnist, DecoderMnist, ClassifierMNIST, trainEncoderMNIST, trainClassifierMNIST, evaluateClassifierMNIST \n",
    "from torch.utils.data import Dataset, DataLoader, random_split"
   ]
  },
  {
   "cell_type": "code",
   "execution_count": 2,
   "id": "8aa1c173",
   "metadata": {},
   "outputs": [],
   "source": [
    "def freeze_seeds(seed=0):\n",
    "    random.seed(seed)\n",
    "    np.random.seed(seed)\n",
    "    torch.manual_seed(seed)"
   ]
  },
  {
   "cell_type": "code",
   "execution_count": 3,
   "id": "a5fa4082",
   "metadata": {},
   "outputs": [],
   "source": [
    "    transform = transforms.Compose([\n",
    "        transforms.ToTensor(),\n",
    "        transforms.Normalize(mean=[0.5], std=[0.5])\n",
    "    ])"
   ]
  },
  {
   "cell_type": "code",
   "execution_count": 4,
   "id": "927db7b4",
   "metadata": {},
   "outputs": [],
   "source": [
    "freeze_seeds(0)"
   ]
  },
  {
   "cell_type": "code",
   "execution_count": 5,
   "id": "2ea1d572",
   "metadata": {},
   "outputs": [],
   "source": [
    "import os\n",
    "current_dir = os.getcwd()\n",
    "train_dataset = datasets.MNIST(root=current_dir, train=True, download=False, transform=transform)\n",
    "test_dataset  = datasets.MNIST(root=current_dir, train=False, download=False, transform=transform)"
   ]
  },
  {
   "cell_type": "code",
   "execution_count": 6,
   "id": "a4726c3b",
   "metadata": {},
   "outputs": [],
   "source": [
    "def print_images(batch_images, num_to_print):\n",
    "    fig, axes = plt.subplots(1, num_to_print, figsize=(12, 4))\n",
    "\n",
    "    for i in range(num_to_print):\n",
    "        image = batch_images[i].detach().numpy().transpose(1, 2, 0)\n",
    "\n",
    "        # Plot the image\n",
    "        axes[i].imshow(image, cmap='gray')\n",
    "        axes[i].axis('off')\n",
    "\n",
    "    plt.show()"
   ]
  },
  {
   "cell_type": "code",
   "execution_count": 7,
   "id": "8755af7b",
   "metadata": {},
   "outputs": [
    {
     "name": "stdout",
     "output_type": "stream",
     "text": [
      "Train Encoder\n",
      "Epoch [1/5], Train Loss: 0.0064, Validation Loss: 0.0045\n",
      "Epoch [2/5], Train Loss: 0.0038, Validation Loss: 0.0034\n",
      "Epoch [3/5], Train Loss: 0.0032, Validation Loss: 0.0030\n",
      "Epoch [4/5], Train Loss: 0.0029, Validation Loss: 0.0028\n",
      "Epoch [5/5], Train Loss: 0.0027, Validation Loss: 0.0026\n"
     ]
    },
    {
     "data": {
      "image/png": "[encoded data removed]",
      "text/plain": [
       "<Figure size 1200x400 with 5 Axes>"
      ]
     },
     "metadata": {},
     "output_type": "display_data"
    },
    {
     "data": {
      "image/png": "[encoded data removed]",
      "text/plain": [
       "<Figure size 1200x400 with 5 Axes>"
      ]
     },
     "metadata": {},
     "output_type": "display_data"
    }
   ],
   "source": [
    "train_size = int(0.8 * len(train_dataset))\n",
    "val_size   = len(train_dataset) - train_size\n",
    "\n",
    "train_dataset, val_dataset = random_split(train_dataset, [train_size, val_size])\n",
    "\n",
    "dl_train = DataLoader(train_dataset, batch_size=32, shuffle=True)\n",
    "dl_test  = DataLoader(test_dataset, batch_size=32, shuffle=False)\n",
    "dl_val   = DataLoader(val_dataset, batch_size=32, shuffle=False)\n",
    "\n",
    "im_size = train_dataset[0][0].shape\n",
    "\n",
    "encoder = EncoderMnist(in_channels=im_size[0] ,latent_dim=128)\n",
    "decoder = DecoderMnist(latent_dim=128, out_channels=im_size[0])\n",
    "\n",
    "epochs = 5\n",
    "device = torch.device(\"cuda\" if torch.cuda.is_available() else \"cpu\")\n",
    "trainEncoderMNIST(encoder, decoder, epochs, dl_train, dl_val, device=device)\n",
    "\n",
    "batch_images, _ = next(iter(dl_test))\n",
    "batch_images    = batch_images.to(device)\n",
    "\n",
    "print_images(batch_images, num_to_print=5)\n",
    "encoded = encoder(batch_images)\n",
    "decoded = decoder(encoded)\n",
    "print_images(decoded, num_to_print=5)\n",
    "\n",
    "# t-SNE\n",
    "plot_tsne(encoder, dl_test ,device, \"mnist_encoder_1_2_1\")"
   ]
  },
  {
   "cell_type": "code",
   "execution_count": 8,
   "id": "74460df5",
   "metadata": {},
   "outputs": [
    {
     "name": "stdout",
     "output_type": "stream",
     "text": [
      "Section 1.2.1.2\n",
      "Train Classifier\n",
      "Epoch [1/5], Train Loss: 0.4788, Train Accuracy: 85.45%, Validation Loss: 0.4201, Validation Accuracy: 86.81%\n",
      "Epoch [2/5], Train Loss: 0.3986, Train Accuracy: 87.79%, Validation Loss: 0.3863, Validation Accuracy: 87.98%\n",
      "Epoch [3/5], Train Loss: 0.3776, Train Accuracy: 88.47%, Validation Loss: 0.3685, Validation Accuracy: 88.46%\n",
      "Epoch [4/5], Train Loss: 0.3638, Train Accuracy: 88.98%, Validation Loss: 0.3622, Validation Accuracy: 88.66%\n",
      "Epoch [5/5], Train Loss: 0.3518, Train Accuracy: 89.19%, Validation Loss: 0.3402, Validation Accuracy: 89.33%\n",
      "Evaluate Classifier\n",
      "Test Loss: 0.3230, Test Accuracy: 90.19%\n"
     ]
    }
   ],
   "source": [
    "# Adding a classifier\n",
    "print(\"Section 1.2.1.2\")\n",
    "encoder.eval() # Set encoder to evaluation mode to avoid updates during training\n",
    "\n",
    "# Freeze the encoder parameters\n",
    "for param in encoder.parameters():\n",
    "    param.requires_grad = False\n",
    "\n",
    "classifier = ClassifierMNIST(latent_dim=128)\n",
    "epochs = 5\n",
    "trainClassifierMNIST(encoder, classifier, epochs, dl_train, dl_val, device)\n",
    "evaluateClassifierMNIST(encoder, classifier, dl_test, device)"
   ]
  },
  {
   "cell_type": "code",
   "execution_count": 9,
   "id": "d1dc9b43",
   "metadata": {},
   "outputs": [
    {
     "name": "stdout",
     "output_type": "stream",
     "text": [
      "Section 1.2.2\n",
      "Train Encoder + Classifier\n",
      "Epoch [1/5], Train Loss: 0.3603, Train Accuracy: 88.88%, Validation Loss: 0.1872, Validation Accuracy: 94.44%\n",
      "Epoch [2/5], Train Loss: 0.1815, Train Accuracy: 94.75%, Validation Loss: 0.1319, Validation Accuracy: 96.08%\n",
      "Epoch [3/5], Train Loss: 0.1376, Train Accuracy: 95.99%, Validation Loss: 0.1536, Validation Accuracy: 95.53%\n",
      "Epoch [4/5], Train Loss: 0.1143, Train Accuracy: 96.59%, Validation Loss: 0.1217, Validation Accuracy: 96.67%\n",
      "Epoch [5/5], Train Loss: 0.0973, Train Accuracy: 97.15%, Validation Loss: 0.1401, Validation Accuracy: 96.03%\n",
      "Test Loss: 0.1341, Test Accuracy: 96.23%\n"
     ]
    }
   ],
   "source": [
    "print(\"Section 1.2.2\")\n",
    "from AutoEncoderDecoder import ClassifierMNIST122, trainClassifierMNIST122, evaluateClassifierMNIST122\n",
    "\n",
    "encoder_122    = EncoderMnist(in_channels=im_size[0] ,latent_dim=128)\n",
    "classifier_122 = ClassifierMNIST(latent_dim=128)\n",
    "\n",
    "model = ClassifierMNIST122(encoder_122, classifier_122).to(device)\n",
    "\n",
    "# Train the entire model (encoder + classifier) to minimize classification loss\n",
    "epochs = 5\n",
    "trainClassifierMNIST122(model, epochs, dl_train=dl_train, dl_val=dl_val, device=device)\n",
    "evaluateClassifierMNIST122(model, dl_test, device)\n",
    "\n",
    "# t-SNE\n",
    "plot_tsne(encoder_122, dl_test ,device, \"mnist_encoder_1_2_2\")"
   ]
  },
  {
   "cell_type": "code",
   "execution_count": null,
   "id": "8c302b89",
   "metadata": {},
   "outputs": [
    {
     "name": "stdout",
     "output_type": "stream",
     "text": [
      "Section 1.2.3\n",
      "trainEncoder123\n",
      "Epoch 1/5, Loss: inf\n",
      "Epoch 2/5, Loss: inf\n"
     ]
    }
   ],
   "source": [
    "from AutoEncoderDecoder import ProjectionHead, trainEncoderMNIST123\n",
    "print(\"Section 1.2.3\")\n",
    "transform = transforms.Compose([\n",
    "    transforms.RandomHorizontalFlip(),\n",
    "    transforms.RandomRotation(20),\n",
    "    transforms.ToTensor(),\n",
    "    transforms.Normalize(mean=[0.5], std=[0.5])\n",
    "])\n",
    "\n",
    "train_dataset = datasets.MNIST(root=current_dir, train=True, download=False, transform=transform)\n",
    "test_dataset  = datasets.MNIST(root=current_dir, train=False, download=False, transform=transform)\n",
    "\n",
    "train_dataset, val_dataset = random_split(train_dataset, [train_size, val_size])\n",
    "\n",
    "dl_train = DataLoader(train_dataset, batch_size=16, shuffle=True)\n",
    "dl_test  = DataLoader(test_dataset, batch_size=16, shuffle=False)\n",
    "dl_val   = DataLoader(val_dataset, batch_size=16, shuffle=False)\n",
    "\n",
    "# Initialize encoder, projection head, and loss function\n",
    "encoder = EncoderMnist(in_channels=im_size[0] ,latent_dim=128)\n",
    "projection_head = ProjectionHead(in_dim=128, out_dim=128).to(device)\n",
    "encoder123 = torch.nn.Sequential(encoder, projection_head)\n",
    "\n",
    "epochs = 5\n",
    "trainEncoderMNIST123(encoder123, epochs, dl_train, device)\n",
    "\n",
    "# Add a classifier\n",
    "classifier123 = ClassifierMNIST(latent_dim=128)\n",
    "trainClassifierMNIST(encoder123, classifier123, epochs, dl_train, dl_val, device)\n",
    "evaluateClassifierMNIST(encoder123, classifier123, dl_test, device)\n",
    "\n",
    "# t-SNE\n",
    "plot_tsne(encoder, dl_test ,device, \"mnist_encoder_1_2_3\")"
   ]
  },
  {
   "cell_type": "code",
   "execution_count": null,
   "id": "17a2e754",
   "metadata": {},
   "outputs": [],
   "source": []
  }
 ],
 "metadata": {
  "kernelspec": {
   "display_name": "Python 3 (ipykernel)",
   "language": "python",
   "name": "python3"
  },
  "language_info": {
   "codemirror_mode": {
    "name": "ipython",
    "version": 3
   },
   "file_extension": ".py",
   "mimetype": "text/x-python",
   "name": "python",
   "nbconvert_exporter": "python",
   "pygments_lexer": "ipython3",
   "version": "3.9.0"
  }
 },
 "nbformat": 4,
 "nbformat_minor": 5
}
